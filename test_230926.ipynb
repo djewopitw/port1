{
 "cells": [
  {
   "cell_type": "code",
   "execution_count": null,
   "metadata": {
    "colab": {
     "base_uri": "https://localhost:8080/"
    },
    "executionInfo": {
     "elapsed": 23419,
     "status": "ok",
     "timestamp": 1695703122190,
     "user": {
      "displayName": "이름",
      "userId": "12956755850334278239"
     },
     "user_tz": -540
    },
    "id": "TOQHy06ZxPWr",
    "outputId": "b5fcb2d7-b9e3-4c71-b9d9-ae8d618390ee"
   },
   "outputs": [],
   "source": [
    "from google.colab import drive\n",
    "drive.mount('/content/drive')"
   ]
  },
  {
   "cell_type": "code",
   "execution_count": null,
   "metadata": {
    "colab": {
     "base_uri": "https://localhost:8080/"
    },
    "executionInfo": {
     "elapsed": 4,
     "status": "ok",
     "timestamp": 1695703147184,
     "user": {
      "displayName": "이름",
      "userId": "12956755850334278239"
     },
     "user_tz": -540
    },
    "id": "p5Se7ZsNyJZT",
    "outputId": "36c151e2-4849-4ead-8098-e5e2ece8b84f"
   },
   "outputs": [],
   "source": [
    "cd/content/drive/MyDrive/ops2023"
   ]
  },
  {
   "cell_type": "code",
   "execution_count": null,
   "metadata": {
    "colab": {
     "base_uri": "https://localhost:8080/",
     "height": 35
    },
    "executionInfo": {
     "elapsed": 7,
     "status": "ok",
     "timestamp": 1695703169159,
     "user": {
      "displayName": "이름",
      "userId": "12956755850334278239"
     },
     "user_tz": -540
    },
    "id": "mFOCS7hex-Iq",
    "outputId": "7f067aa9-23d8-4b7b-bf32-fd2ca7b53f54"
   },
   "outputs": [],
   "source": [
    "pwd"
   ]
  },
  {
   "cell_type": "code",
   "execution_count": null,
   "metadata": {
    "colab": {
     "base_uri": "https://localhost:8080/"
    },
    "executionInfo": {
     "elapsed": 7,
     "status": "ok",
     "timestamp": 1695702914621,
     "user": {
      "displayName": "이름",
      "userId": "12956755850334278239"
     },
     "user_tz": -540
    },
    "id": "lZhUeBiVxG7O",
    "outputId": "ae0a1aaf-94b2-4f9f-bf2c-b5ac3ccd234e"
   },
   "outputs": [],
   "source": [
    "print(\"hello world\")"
   ]
  },
  {
   "cell_type": "code",
   "execution_count": null,
   "metadata": {
    "colab": {
     "base_uri": "https://localhost:8080/"
    },
    "executionInfo": {
     "elapsed": 341,
     "status": "ok",
     "timestamp": 1695704628380,
     "user": {
      "displayName": "이름",
      "userId": "12956755850334278239"
     },
     "user_tz": -540
    },
    "id": "wE8V6ayHyPMN",
    "outputId": "2da6490a-b3a4-4118-be7b-905e3bc345a6"
   },
   "outputs": [],
   "source": [
    "for i in range(0,5):\n",
    "  print(i)"
   ]
  },
  {
   "cell_type": "code",
   "execution_count": null,
   "metadata": {
    "colab": {
     "base_uri": "https://localhost:8080/"
    },
    "executionInfo": {
     "elapsed": 420,
     "status": "ok",
     "timestamp": 1695704733831,
     "user": {
      "displayName": "이름",
      "userId": "12956755850334278239"
     },
     "user_tz": -540
    },
    "id": "hAxTtqOV1V1N",
    "outputId": "c711a96a-f764-4ee1-b50c-8ec2393b0d3f"
   },
   "outputs": [],
   "source": [
    " print (\"023\")\n"
   ]
  }
 ],
 "metadata": {
  "colab": {
   "authorship_tag": "ABX9TyPGF5tXvTmZ3yFQMkr8RgoM",
   "provenance": []
  },
  "kernelspec": {
   "display_name": "Python 3",
   "name": "python3"
  },
  "language_info": {
   "name": "python"
  }
 },
 "nbformat": 4,
 "nbformat_minor": 0
}
